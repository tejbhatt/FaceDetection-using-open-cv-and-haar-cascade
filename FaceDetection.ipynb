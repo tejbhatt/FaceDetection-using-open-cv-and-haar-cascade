{
 "cells": [
  {
   "cell_type": "code",
   "execution_count": 68,
   "metadata": {},
   "outputs": [],
   "source": [
    "import numpy as np\n",
    "import cv2\n",
    "#%matplotlib inline\n",
    "#from matplotlib import pyplot as plt"
   ]
  },
  {
   "cell_type": "code",
   "execution_count": 69,
   "metadata": {},
   "outputs": [],
   "source": [
    "#https://github.com/Itseez/opencv/blob/master/data/haarcascades/haarcascade_frontalface_default.xml\n",
    "cascade_face= cv2.CascadeClassifier('C:\\\\Users\\\\Tej\\\\Desktop\\\\face detection\\\\haarcascade_frontalface_default.xml')\n",
    "#https://github.com/Itseez/opencv/blob/master/data/haarcascades/haarcascade_eye.xml\n",
    "cascade_eye= cv2.CascadeClassifier('C:\\\\Users\\\\Tej\\\\Desktop\\\\face detection\\\\haarcascade_eye.xml')\n",
    "cascade_smile= cv2.CascadeClassifier('C:\\\\Users\\\\Tej\\\\Desktop\\\\face detection\\\\haarcascade_smile.xml')\n"
   ]
  },
  {
   "cell_type": "code",
   "execution_count": 70,
   "metadata": {},
   "outputs": [],
   "source": [
    "img = cv2.imread('C:\\\\Users\\\\Tej\\\\Downloads\\\\frontface.jpg') #define your path or you could use webcam"
   ]
  },
  {
   "cell_type": "code",
   "execution_count": 71,
   "metadata": {},
   "outputs": [],
   "source": [
    "grayscale = cv2.cvtColor(img, cv2.COLOR_BGR2GRAY) #convert image to grayscale purpose"
   ]
  },
  {
   "cell_type": "code",
   "execution_count": 73,
   "metadata": {},
   "outputs": [],
   "source": [
    "#for x,y,w,h point draw bounding box\n",
    "face = cascade_face.detectMultiScale(grayscale, 1.3, 5)\n",
    "for (x_face, y_face, w_face, h_face) in face:\n",
    "        cv2.rectangle(img, (x_face, y_face), (x_face+w_face, y_face+h_face), (255, 130, 0), 2)\n",
    "        \n",
    "        ri_grayscale = grayscale[y_face:y_face+h_face, x_face:x_face+w_face]\n",
    "        ri_color = img[y_face:y_face+h_face, x_face:x_face+w_face] \n",
    "        \n",
    "        eye = cascade_eye.detectMultiScale(ri_grayscale, 1.2, 18) \n",
    "        for (x_eye, y_eye, w_eye, h_eye) in eye:\n",
    "            cv2.rectangle(ri_color,(x_eye, y_eye),(x_eye+w_eye, y_eye+h_eye), (0, 180, 60), 2)\n",
    "            \n",
    "        smile = cascade_smile.detectMultiScale(ri_grayscale, 1.7, 20)\n",
    "        for (x_smile, y_smile, w_smile, h_smile) in smile: \n",
    "            cv2.rectangle(ri_color,(x_smile, y_smile),(x_smile+w_smile, y_smile+h_smile), (255, 0, 130), 2)\n",
    "     \n",
    "\n",
    "\n",
    "   "
   ]
  },
  {
   "cell_type": "code",
   "execution_count": 74,
   "metadata": {},
   "outputs": [],
   "source": [
    "#use this code if your cv2.imshow is giving error and dont forget to import matplotlib and use %inline function\n",
    "\n",
    "\n",
    "\n",
    "\n",
    "#plt.imshow(cv2.cvtColor(img, cv2.COLOR_BGR2RGB))\n",
    "#cv2.imshow('image',img) \n",
    "#plt.show()"
   ]
  },
  {
   "cell_type": "code",
   "execution_count": 75,
   "metadata": {},
   "outputs": [],
   "source": [
    "\n",
    "while True:\n",
    "    # Press 'q' for exit\n",
    "    exit_key = ord('q')\n",
    "    if cv2.waitKey(exit_key) & 255 == exit_key:\n",
    "        cv2.destroyAllWindows()\n",
    "        break\n",
    "    cv2.imshow('Image_title', img)\n",
    "\n",
    "       \n",
    " \n",
    "\n",
    "   "
   ]
  },
  {
   "cell_type": "code",
   "execution_count": 76,
   "metadata": {},
   "outputs": [
    {
     "name": "stdout",
     "output_type": "stream",
     "text": [
      "The image is successfully saved.\n"
     ]
    }
   ],
   "source": [
    "isWritten = cv2.imwrite('C:\\\\Users\\\\Tej\\\\Desktop\\\\jonsnowfacedetection.jpg', img) #enter your path where you want file to be saved\n",
    "\n",
    "if isWritten:\n",
    "\tprint('The image is successfully saved.')"
   ]
  },
  {
   "cell_type": "code",
   "execution_count": null,
   "metadata": {},
   "outputs": [],
   "source": []
  }
 ],
 "metadata": {
  "kernelspec": {
   "display_name": "Python 3",
   "language": "python",
   "name": "python3"
  },
  "language_info": {
   "codemirror_mode": {
    "name": "ipython",
    "version": 3
   },
   "file_extension": ".py",
   "mimetype": "text/x-python",
   "name": "python",
   "nbconvert_exporter": "python",
   "pygments_lexer": "ipython3",
   "version": "3.7.6"
  }
 },
 "nbformat": 4,
 "nbformat_minor": 4
}